{
 "cells": [
  {
   "cell_type": "code",
   "execution_count": null,
   "metadata": {},
   "outputs": [],
   "source": [
    "%pip install -qU openai\n",
    "%pip install -qU langchain-openai\n",
    "%pip install -qU langchain-community\n",
    "%pip install -qU langchain-qdrant\n",
    "%pip install -qU rouge-score"
   ]
  },
  {
   "cell_type": "markdown",
   "metadata": {},
   "source": [
    "api keys available at https://platform.openai.com/settings/organization/api-keys"
   ]
  },
  {
   "cell_type": "code",
   "execution_count": 10,
   "metadata": {},
   "outputs": [],
   "source": [
    "from dotenv import load_dotenv\n",
    "import os\n",
    "\n",
    "# Load environment variables from .env file\n",
    "load_dotenv()\n",
    "\n",
    "openai_key = os.getenv(\"OPENAI_API_KEY\")\n",
    "openai_organization = os.getenv(\"OPENAI_ORGANIZATION\")\n",
    "openai_project_id = os.getenv(\"OPENAI_PROJECT_ID\")\n"
   ]
  },
  {
   "cell_type": "code",
   "execution_count": null,
   "metadata": {},
   "outputs": [],
   "source": [
    "from openai import OpenAI\n",
    "\n",
    "model = \"gpt-4o-mini\"\n",
    "\n",
    "openaiclient = OpenAI(\n",
    "  organization=openai_organization,\n",
    "  project=openai_project_id,\n",
    "  api_key=openai_key\n",
    ")"
   ]
  },
  {
   "cell_type": "code",
   "execution_count": null,
   "metadata": {},
   "outputs": [],
   "source": [
    "from langchain_community.embeddings.sentence_transformer import (\n",
    "    SentenceTransformerEmbeddings,\n",
    ")\n",
    "\n",
    "from langchain_qdrant import QdrantVectorStore\n",
    "from qdrant_client import QdrantClient\n",
    "from qdrant_client.http.models import Distance, VectorParams\n",
    "from qdrant_client import models, QdrantClient\n",
    "from langchain_core.vectorstores import VectorStoreRetriever\n",
    "\n",
    "qdrant = QdrantClient(path=\"./qdrant_data\")\n",
    "\n",
    "#embedding_function = SentenceTransformerEmbeddings(model_name=\"all-MiniLM-L6-v2\")\n",
    "embeddings = SentenceTransformerEmbeddings(model_name=\"paraphrase-MiniLM-L6-v2\")\n",
    "\n"
   ]
  },
  {
   "cell_type": "code",
   "execution_count": 19,
   "metadata": {},
   "outputs": [],
   "source": [
    "from sentence_transformers import SentenceTransformer\n",
    "embeddingModel = SentenceTransformer('paraphrase-MiniLM-L6-v2')"
   ]
  },
  {
   "cell_type": "code",
   "execution_count": 21,
   "metadata": {},
   "outputs": [],
   "source": [
    "searchedText = \"\"\"Please explain to me rules of Battle in Almoravid\"\"\""
   ]
  },
  {
   "cell_type": "code",
   "execution_count": 12,
   "metadata": {},
   "outputs": [],
   "source": [
    "def debug_hit (score, payload, filename):\n",
    "    with open(filename, \"w\") as file:\n",
    "        file.write(\"Score: \" + str(score) + \"\\n\")\n",
    "        file.write(\"Payload: \" + str(payload) + \"\\n\")"
   ]
  },
  {
   "cell_type": "code",
   "execution_count": 16,
   "metadata": {},
   "outputs": [
    {
     "data": {
      "text/plain": [
       "[(0, 'a'), (1, 'b'), (2, 'c')]"
      ]
     },
     "execution_count": 16,
     "metadata": {},
     "output_type": "execute_result"
    }
   ],
   "source": [
    "[(index, value) for index, value in enumerate([\"a\", \"b\", \"c\"])]"
   ]
  },
  {
   "cell_type": "code",
   "execution_count": 23,
   "metadata": {},
   "outputs": [
    {
     "name": "stdout",
     "output_type": "stream",
     "text": [
      "id=40 version=0 score=0.5186433699364841 payload={'source': '6.3.4 Plowing. At the end of the second 40 Days of Winter (box \\n8), each Lord at a Siege (only) reduces his Carts and Mules each \\nto ½ their number (rounded up).\\n6.3.5 Arts of War. In the first Spring Levy (box 9), \\ndraw Capabilities instead of Events (3.1).\\n© 2021 GMT Games, LLC\\nAlmoravid\\n35\\nKey Terms\\n40 Days—Calendar box, a turn (1.3.2). \\nActive—Acting on Campaign (4.0).\\nAdjacent—Linked by a Way (1.3.1). \\nAfrican Foot and Horse—Forces types (1.6). \\nAllegiance—Friendly, Neutral, Enemy (1.3.1).\\nApproach—March to enemy (4.3.4). \\nArmor—Unit Protection roll (4.4.2). \\nArray—Lords in Battle or Storm (4.4.1). \\nArts of War—card, deck (1.9.1, 3.1). \\nAsset—Coin, Loot, Provender, Transport (1.7). \\nAttack—Engage in Battle or Storm as the Active side (4.4, 4.5.2). \\nAutumn—a Season (2.2.1). \\nAvoid Battle—Back off from Approach (4.3.4). \\nBattle—Fight due to March (4.4). \\nBattle mat—Array option (4.4.1). \\nBesieged—Under Siege (4.3.5). \\nBishop—Special Vassal type (3.4.2). \\nBowmen—Missile type (4.4.2, 4.5.2). \\nBypass—Marker at Stronghold (4.3.5).\\nCalendar—Board section tracking turns, Service, and victory \\n(1.3.2, 2.2). \\nCall to Arms—Part of Levy (3.5). \\nCampaign—Phase of each 40 Days (4.0). \\nCapability—Card aspect (1.9.1, 3.4.4). \\nCapacity—Stronghold aspect (1.3.1). \\nCart—Transport type (1.7.4). \\nCastle—Stronghold type (1.3.1). \\nCity—Stronghold type (1.3.1). \\nCoin—Asset type (1.7). \\nCommand—Rating (1.5.3); card (1.9.2); Activation (4.2); ac-\\ntions (4.3-.7). \\nConcede the Field—Declare end to Battle as loser (4.4.2).\\nConquered—VP marker (1.3.1, 5.1). \\nCrossbowmen—Missile type (4.4.2, 4.5.2). \\nCrusader—Special Vassal type (3.4.2). \\nCurias—Scenario F procedure, marker (6.2).\\nCylinder—A Lord’s piece (1.5.1). \\nDefend—Face an Attack (4.4, 4.5.2). \\nDepart—Leave from Bypass (4.3.6). \\nDinars—Deposit Coin to Taifas box (4.1.4).\\nDisband—Remove Lord from map (3.3). \\nEncamp—Convert Bypass to Siege (4.3.6). \\nEnforcing Parias—Ravage shift (4.7.2).\\nEnemy—Of the other side (1.1, 1.3.1).\\nEvade—Unit Protection roll (4.4.2). \\nEvent—Arts of War card aspect (1.9.1). \\nFealty—Lord rating (1.5.3). \\nFeed—Eat after Marched/Fought (4.8.1). \\nFlank—Fight non-opposite (4.4.2). \\nFoot—Forces category (1.6). \\nForage—Command action (4.7.1). \\nForces—Foot and Horse units (1.6). \\nFortress—Stronghold type (1.3.1). \\nFriendly—Of the same side (1.3.1).\\nFront—Forward Array row (4.4.1). \\nGardens—Stronghold aspect (1.3.1, 4.7.1). \\nGarrison—Storm Defense units (4.5.2). \\nGreed—Discard restriction (1.7.2, 3.1.4, 4.8.1). \\nGrow—End-Season Ravage recovery (4.9.2).'} vector=None shard_key=None order_value=None\n",
      "score: 0.5186433699364841 *****TXT****** 6.3.4 Plowing. At the end of the second 40 Days of Winter (box \n",
      "8), each Lord at\n",
      "id=2 version=0 score=0.508036262377725 payload={'source': 'Players must keep an eye on the calendar and \\nreward lords to keep them in the field. \\nAn advanced rule adds detail on vassal forces’ length of service. \\nPlayers may use optional screens that hide the strength of their \\nlords for greater fog of war. Though Almoravid has no solitaire \\nsystem, the standard game is solitaire friendly. \\nA player aid foldout and a separate Taifa reference sheet sum-\\nmarize key game functions. The last few pages of this rule book \\nprovide scenarios and key terms. A background booklet has sup-\\nporting material such as examples of play, tips on solitaire and \\nteam play, detailed histories of the era, and a separate minigame \\non its greatest battle.\\nThe page opposite lists rules changes from Levy & Campaign \\nSeries V olume I, Nevsky. In addition, this icon \\uf075 precedes such \\nnew rules sections and concepts in this rules booklet.\\n1.1 General Course of Play\\nIn Almoravid, two players (or teams) take the roles of Christians \\n(yellow) and Muslims (green), respectively. The Christian and \\nMuslim sides are Enemy to one another. The Christians repre-\\nsent the rising kingdoms of northern Spain and their allies. The \\nMuslims comprise the dynasties ruling a patchwork of Andalu-\\nsian emirates and their allies, including an Islamic Berber army \\nfrom Africa. \\nIn turns covering 40 days (a traditional period of military service), \\nChristian and Muslim players will levy lords and vassal forces, \\ngather transport, and recruit capabilities. Each lord’s forces and \\nassets are laid out on a mat. The players then plan and command a \\n40-day campaign with their mustered lords. A cylinder on the map\\nrepresents each lord, while markers on a calendar show how much\\ntime remains in the lords’ service, influenced by hunger, pay, and\\nsuccess or failure on campaign.\\nDESIGN NOTE: Christians and Muslims in medieval Ibe-\\nria warred not only on each other but on their co-religionists. \\n“Christian” and “Muslim” in this game refer to the player sides, \\neven though each side features adherents of either religion.\\n1.2 Components\\nA complete set of Almoravid includes: \\n• A mounted game board (1.3)\\n• Sixteen Lord cylinders (7 yellow, 9 green; 1.5.1)\\n• A Lords sticker sheet (1.5.1, apply to cylinders)\\n• Sixteen Lord mats (1.5.2)\\n• One Battle/Storm mat (4.4.1)\\n• 78 Horse \\nwedges (26 silver [Knights], 23 steel [Sergeants], 10\\nblue [African Horse], 19 brown [Light Horse])\\n• 83 Foot bars (30 steel [Men-at-Arms], 14 blue [African Foot],\\n33 brown [Militia], 6 tan [Serfs])\\n• Three sheets of markers and counters.\\n• Four decks of playing cards (26 Christian and 26 Muslim Arts\\nof W\\nar cards, 27 Christian and 33 Muslim Command cards, 1.9)\\n• Two player aid foldouts (summarizing Sequence of Play,\\nCommands, Forces, and Battles)\\n• A Taifa Politics and Orientation Map reference sheet (1.3.1, 1.4)\\n• Two screens\\n• Six 6-sided dice (three yellow, three green)\\n• A background booklet (not needed for play)\\n• This rules booklet.\\n1.3 Game Board and Map\\n1.3.1 Map. The game board shows a map of much of Spain, circa \\n1085. It depicts Locales linked by Ways, a Calendar along the left, \\nand a Taifas (Muslim emirates) box in one corner. See also the \\norientation map on back of the Taifa Politics sheet. \\nSeason\\nLocales\\nRoad Way Pass Way Taifas box\\nMuslim Territory \\n(“Taifas”)\\nCalendar 40-Days box\\nChristian Territory \\n(“Kingdoms”)\\n\\n© 2021 GMT Games, LLC\\nAlmoravid\\n4\\nTERRITORY: Christian Territory comprises two Kingdoms in \\nthe north bordered in gold—León and Aragón. Muslim Territo-\\nry comprises seven Taifas bordered in green—Badajoz, Toledo, \\nZaragoza, Lérida, Sevilla, Granada, and Valencia. \\uf075 Taifas can \\nbecome a “Parias” Taifa or “Reconquista” Taifa, rendering it Neu-\\ntral or Christian Territory instead (see ALLEGIANCE, below, and \\nTaifa Politics, 1.4).'} vector=None shard_key=None order_value=None\n",
      "score: 0.508036262377725 *****TXT****** Players must keep an eye on the calendar and \n",
      "reward lords to keep them in the f\n",
      "id=10 version=0 score=0.49991573785732457 payload={'source': 'A Lord’s Vassals, including the number of them \\nwith the same composition of Forces, are shown on his mat in the \\nAssets & Vassals section, to simplify preparation of a mat when \\nMustering a Lord (1.5.2, 3.4.1). Almoravid also features Special \\nVassals that can become available to various Lords but only upon \\nplay of relevant Capabilities and \\uf075 have no Service Rating (1.5.1, \\n3.4.2). \\nImportant: At start of play and when a Lord is Levied to enter \\nplay, his Vassals’ units are not placed on his mat – they are \\nadded only as the Lord Musters those Vassals (3.4.2).\\n1.6 Forces\\nAlmoravid represents military units with wood pieces: wedges for \\nHorse and bars for Foot. Add Forces to Lord mats as Lords and \\nVassals Muster (3.4-3.5) or Forces without Vassal markers Muster \\nper card text (1.9.1, 3.1.3, 3.4.2). See the Forces foldout page for a \\nlisting of unit types, their pieces, and characteristics (4.4.2). Keep \\nspare Forces pieces in a pool such as a bowl (2.1.1).\\n• A Mustered Lord without \\nany Forces on his mat immediately\\nDisbands to the Calendar per 3.3.2.\\nDESIGN NOTE: A Horse unit represents about 60-200 mount-\\ned men, Foot about 120-400 infantry.\\n1.7 Assets\\nVarious items that Lords obtain and \\nuse—Transport, Provender (food and \\nother supplies), Coin (money), and Loot \\n(livestock and other booty)—are shown \\nby 5/8\" counters placed on Lords’ mats. \\n1.7.1 Accounting. Lords may add and expend each type of Asset, \\nmaking change as needed. Plain markers represent one such Asset \\neach; “x2”, “x3”, and “x4” markers represent those amounts. Coin \\nin the Taifas box (1.3.3) functions similarly.\\nNOTE: Asset markers provided are not a limit on play. In the \\nunlikely case that markers run out, players may represent added \\nAssets with coins or pieces from other games or by placing other \\nunused markers below Asset markers to represent one Asset of \\nthat type per stacked marker. \\n1.7.2 Greed. Lords may discard (rather than use) Assets only as \\nneeded to help them move—to March Laden, March Unladen, \\nAvoid Battle, or Retreat (4.3.2, 4.3.4, 4.4.3)—or to \\uf075 Feed (4.8.1).\\n1.7.3 Transport. \\uf075 Transport types are Cart and Mule. Both \\nserve to carry Provender on March and to Supply Provender to \\nLords from their Seats. \\nNOTES: Mules eat Provender but are faster than Carts across \\nPasses (4.6.1, 4.8.1). Carts and Mules periodically reduce in \\nnumber (4.9.2, 6.3.4).\\n© 2021 GMT Games, LLC\\nAlmoravid\\n9\\n1.8 Other Markers\\nVariously shaped game counters include:\\n• Six round \\nmarkers to track time and victory on the Calendar\\n(2.2.2, 2.2.5, 5.1, 6.2.2) and mark Battle and Storm Locales \\n(4.4-4.5).\\n• Rectangular “Pursuit” and “Scenario End” markers (4.4.2,\\n6.1).\\nSeveral 5/8th-inch square markers include:\\n• Conquered 1VP\\n for taken Strongholds (4.5) and Taifas Box\\nvictory points (3.5.1-.2, 5.1).\\n• Siege markers to put at Besieged Strongholds and to show\\nSiegeworks in Storm or Sally (4.3.4, 4.5).\\n• \\uf075 “Parias/Reconquista” markers (1.4).\\n• Moved/Fought markers \\nto put on Lord cylinders during Com-\\nmands (4.3, 4.4.5), with Supply Source reminders on the back\\n(4.6.1).\\n•\\n \\uf075 Seat markers for Rodrigo, Yusuf, and Sir\\n(3.5); two Cathedrals  Capability 1VP Seat\\nmarkers for Alfonso (1.9.1).'} vector=None shard_key=None order_value=None\n",
      "score: 0.49991573785732457 *****TXT****** A Lord’s Vassals, including the number of them \n",
      "with the same composition of For\n",
      "id=25 version=0 score=0.49804240606087363 payload={'source': 'NOTE: Battles last at least one Round.\\n• This Round, \\nthe Enemy gains a Pursuit advantage against the\\nConceding side’s Hits (see below).\\n• \\n Place the Pursuit marker between the \\nsides, pointing from Pursuing to Con-\\nceding side.\\nREPOSITION: Then, in each Round after the first, both sides \\nreposition Lords as follows (in this order).\\n• Rout. Remove \\nRouted Lords from the Battle Array. They no\\nlonger occupy any Array position nor participate further in the\\nBattle until Ending the Battle (4.4.3).\\n• Advance. \\nSlide any Unrouted Lords in Reserve into any empty\\nFront positions (one each).\\n• Center.\\n If a Front center position remains empty, first the At-\\ntacker then the Defender must select and slide one of that side’s \\nLords from either left or right front to fill its empty Front-cen-\\nter position.\\nSTRIKE: The Forces of Lords in Front Strike the Forces of the \\nLord directly opposite them or—if Flanking—those of the closest \\nFront Enemy Lord. \\n• Flanking. Whenever a Lord at Front has no Enemy Lord\\ndirectly opposite, he Strikes the closest Front Enemy Lord; \\ncenter may choose left or right. Total all Hits from Flank-\\ning Lords plus the directly opposed Lord, then round up. A \\nFlanking Lord may absorb Hits from a Flanked Lord, at the \\nowner’\\ns option. \\n• Initiative.  Strike step by step in the order shown below; each\\nletter designates \\na separate step. Within each step, Striking\\nLords choose the order of Strike, Lord by Lord (or Lord with\\nFlanking Lord[s]). Then any Flanking Lords choose wheth-\\ner to absorb Strikes before opposed Lords. Resolve all Hits,\\nProtection rolls, and Rout before Striking in the next step, not\\nsimultaneously. EXAMPLE: Attackers take Hits from Defend-\\ning Missiles before Attacking Missiles Strike.\\n1. Missile steps\\na. Defending Missiles\\nb. Attacking Missiles \\n2. Melee steps\\na. Defending Horse\\nb. Attacking Horse \\nc. Defending Foot\\nd. Attacking Foot \\n•\\n \\uf075 Javelins: A Lord with Javelins may use them in\\nany one Round of that side’s choice only, an-\\nnouncing so at the moment of use and flipping the\\nJavelins marker on his mat to the red “X”.\\nA portion of the Forces table on the foldout play aid.\\nTOTAL HITS: Each unit causes ½, 1, or 2 Hits, depending on \\nForces and Strike type—see the Forces table. Total all Hits for \\nthat step, including Flanking plus directly opposing Lords, round-\\ning up. If separate Capabilities give a unit “Missiles x½” and \\n“Missiles x1”, it has Missiles x1; if “Missiles x1” and target Ar-\\nmor -1, it has both. NOTE: You do not roll to generate Hits – they \\ngenerate automatically based on the Forces Striking.\\n• Mixed Missiles: \\nWhen Crossbows combine with other Mis-\\nsiles, round Hits in favor of Crossbows. EXAMPLE: Three \\nCrossbow Men-at-Arms and three Militia Bowmen would yield \\na total of three Hits, of which two would count as Crossbows.\\n• \\n Pursuit. The Conceding side halves its \\ntotal Hits against the Pursuing side. \\nRound all fractions up by step.\\n© 2021 GMT Games, LLC\\nAlmoravid\\n19\\nAPPLY HITS TO LORDS: Hits apply to the Forces of the op-\\nposed, Flanked, or Flanking Enemy Lord. A Player with a Flank-\\ning Lord selects either the Flanking or directly opposed Lord to \\ntake Hits. Whenever a Lord Routs to create a new Flanking situa-\\ntion, apply remaining Hits accordingly. \\nPROTECTION: Strongholds, Siegeworks, cards, and most \\nForces types give saving rolls that can nullify Hits—Walls, Ar-\\nmor, Evade, and Unarmored Protection. Crossbows and cards can \\nalter the rolls needed. See the Forces and Strongholds tables.\\nROLL WALLS: If this is a Storm or Sally (4.5.2-.3), a Lord ben-\\nefiting from Walls or Siegeworks first rolls dice equal to the total \\nnumber of Hits just received in that step before assigning Hits to \\nunits. Each roll within the Walls range specified (often, 1-4; 1-3 \\nwith Siege Towers) or less than or equal to the total Siege mark-\\ners there cancels one Hit.'} vector=None shard_key=None order_value=None\n",
      "score: 0.49804240606087363 *****TXT****** NOTE: Battles last at least one Round.\n",
      "• This Round, \n",
      "the Enemy gains a Pursuit \n",
      "id=0 version=0 score=0.45348380774897346 payload={'source': '© 2021 GMT Games, LLC\\nSummary of Almoravid Changes from Nevsky  ....................2\\n1. Introduction ........................................................................3\\nGeneral Course of Play ..........................................................3 \\nComponents ...........................................................................3\\nGame Board and Map ............................................................3\\nTaifa Politics ..........................................................................5\\nLords and Vassals ..................................................................6\\nForces ....................................................................................8\\nAssets .....................................................................................8\\nOther Markers ........................................................................9\\nCards ......................................................................................9\\n2. Setup and Calendar .........................................................10\\nSetup ....................................................................................10\\nCalendar ...............................................................................11\\n3. Levy ...................................................................................11\\nArts of War ..........................................................................11\\nPay .......................................................................................12\\nDisband ................................................................................12\\nMuster ..................................................................................12\\nCall to Arms .........................................................................14\\n4. Campaign ..........................................................................15\\nPlan ......................................................................................15\\nCommand ............................................................................16\\nMarch ...................................................................................16\\nBattle ....................................................................................17\\nSiege, Storm, and Sally .......................................................20\\nSupply ..................................................................................21\\nOther Commands .................................................................22\\nFeed/Pay/Disband ................................................................22\\nEnd Campaign .....................................................................23 \\n5. Victory ...............................................................................23\\nEarning Victory Points .........................................................23\\nCampaign Victory ................................................................23\\nEnd of Scenario Victory ......................................................23 \\n6. Scenarios ...........................................................................24\\nKey Terms Index ..................................................................35\\nTABLE OF CONTENTS\\nRULES OF PLAY 2023-02-15\\nLe v y & C a m p a i g n S e r i e S - v o L u m e ii\\n© 2021 GMT Games, LLC\\nAlmoravid\\n2\\nLocales: All except Regions are Strongholds (1.3.1).\\nWays: The types are Roads and Passes (1.3.1).\\nAllegiance: Taifa Politics and Jihad markers can make \\nTerritory Friendly, Enemy, or Neutral. Change in Alle-\\ngiance can flip Ravage markers. (1.3.1, 1.4, 4.5).\\nSeats: Some Seats are markers (1.3.1, 1.9.1, \\n3.5).\\nGardens: Friendly Cities and Fortresses \\nguarantee Forage (1.3.1, 4.7.1).\\nTaifas Box: There is no 8-marker maximum (1.3.3).\\nTaifa Politics: Territory in a Muslim “Tai-\\nfa” emirate can be Friendly to the Christians \\n(“Reconquista”), Neutral (“Parias”), or \\nFriendly to the Muslims (“Independent”), \\nwith several other effects (1.4).\\nJihad: Markers show local resistance to the Christians, \\nadd Muslim VP, and render Locales Friendly to the Mus-\\nlims (1.4.4).\\nRodrigo: This Lord can be Christian or Muslim (1.5.1)\\nForces: Types add African Horse, African Foot (1.6).\\nTransport: Carts and Mules are usable any Way, any \\nSeason; Carts with any Provender are Laden on Passes; \\nMules Feed as if Forces units (1.7, 4.8.1); there are no \\nSleds, Boats, or Ships.\\nWastage: There is no 8-Asset maximum (1.7).\\nCards: There are no No Event/No Capability cards \\n(1.9.1). Marshals have four Command cards (1.9.2).\\nSeasons: Spring, Summer, Autumn, Winter (2.2.1). \\nCalendar: There is a 0 box and a 17+ box (2.2.3, -.5).\\nDisband: Disbanding Taifa Lords can change Taifa sta-\\ntus and award the Christians Coin (1.4.3, 3.3).\\nMuster: Certain cards Muster Lords, Vassals, and other \\nForces in special ways (1.9.1, 3.4). Levy of Transport re-\\nplaces lost Serfs (3.4.3). Lords with no Fealty rating enter \\nplay only by Call to Arms (3.5).\\nCall to Arms: All options are new (3.5).\\nPlan: Taifa Lords deposit Coin into their box (4.1.4).\\nBypass: Lords can Bypass Enemy Strongholds \\nto use more actions during March or to Avoid \\nBattle (4.3.4-.6).\\nLaden: A Lord using any Carts to carry any Provender \\nacross a Pass is Laden (4.3.2).\\nAvoid Battle: Allowed to an Enemy Stronghold by By-\\npassing it (4.3.4-.5).'} vector=None shard_key=None order_value=None\n",
      "score: 0.45348380774897346 *****TXT****** © 2021 GMT Games, LLC\n",
      "Summary of Almoravid Changes from Nevsky  ................\n"
     ]
    }
   ],
   "source": [
    "hits = qdrant.search(\n",
    "    collection_name=\"demo_cosine\",\n",
    "    query_vector=embeddingModel.encode(searchedText).tolist(),\n",
    "    limit=5,\n",
    ")\n",
    "\n",
    "for index, hit in enumerate(hits):\n",
    "    print(hit)\n",
    "    print(\"score:\", hit.score, \"*****TXT******\", hit.payload[\"source\"][:80])\n",
    "    debug_hit(hit.score, hit.payload, f\"debug/output{index}.txt\")\n"
   ]
  },
  {
   "cell_type": "code",
   "execution_count": 25,
   "metadata": {},
   "outputs": [],
   "source": [
    "\n",
    "from langchain_openai.chat_models import ChatOpenAI\n",
    "\n",
    "# LLM\n",
    "llm = ChatOpenAI()"
   ]
  },
  {
   "cell_type": "code",
   "execution_count": 27,
   "metadata": {},
   "outputs": [],
   "source": [
    "answer =  openaiclient.chat.completions.create(\n",
    "        model = model,\n",
    "        messages= [\n",
    "            {\"role\": \"system\", \"content\": \"You are an expert player of Levy & Campaign games, particularly Almoravid. You are helpful and always willing to explain the rules and strategies of the game\" },\n",
    "            {\"role\": \"system\", \"content\": \n",
    "                hits[0].payload['source'] },            \n",
    "            {\"role\": \"user\", \"content\": \"Please explain to me rules of Battle in Almoravid\"}\n",
    "        ]\n",
    "    )"
   ]
  },
  {
   "cell_type": "code",
   "execution_count": 32,
   "metadata": {},
   "outputs": [
    {
     "data": {
      "text/plain": [
       "[Choice(finish_reason='stop', index=0, logprobs=None, message=ChatCompletionMessage(content=\"Battle in Almoravid game is a major aspect that involves engaging with an enemy through direct confrontation. Here's a breakdown of the rules governing battles:\\n\\n### 1. **Initiating Battle**\\n- A battle occurs when an active Lord (the player’s representative on the game board) marches into an enemy's linked territory or adjacent stronghold while performing an *Approach*.\\n  \\n### 2. **Arraying Forces**\\n- Before a battle begins, players must *Array* their Lords. This means placing their units (Foot or Horse) in a specified formation on the battle mat. Arraying includes determining which units will fight and in what order they will be engaged.\\n\\n### 3. **Rolling for Combat**\\n- Combat is resolved using a dice roll for each participating unit during the battle:\\n  - **Attack Rolls:** The attacker rolls dice, aiming to exceed a target number based on the enemy's unit defenses.\\n  - **Defense Rolls:** The defender also rolls to protect their units from harm.\\n\\n### 4. **Types of Units**\\n- Different units have various combat capabilities and functions:\\n  - **Foot Units:** Generally utilized for ground engagements.\\n  - **Horse Units:** Often have advantages in mobility and can sometimes participate in flanking.\\n  - **Missile Units:** These units can engage the enemy from distance but have specific capabilities and limitations.\\n\\n### 5. **Combat Resolution**\\n- After rolling, outcomes are resolved based on the results:\\n  - Successful attacks can deal damage or destroy enemy units.\\n  - Units may also have armor, which provides a chance to evade damage by rolling.\\n\\n### 6. **Casualties**\\n- After each round of combat, casualties are determined. A player must remove a number of units based on the total damage done and any effects of the units involved.\\n  \\n### 7. **Victory and Retreat**\\n- A battle concludes when either player decides to withdraw or one side has sustained significant losses leading to the breakdown of morale.\\n- **Concede the Field:** A player may choose to end the battle voluntarily by conceding.\\n\\n### 8. **Aftermath of Battle**\\n- After one side either wins or retreats, the winner can take control of the territory.\\n- The losing side may suffer from reduced resources, loss of loyalty, or other penalties.\\n\\n### 9. **Special Considerations**\\n- Certain card effects or capabilities may modify the normal rules of combat.\\n- Units may also have special attributes, giving them advantages or disadvantages during battle.\\n\\nUnderstanding these rules is crucial to mastering combat in Almoravid, as battles can significantly influence the outcome of your campaign. Strategies will often revolve around selecting the right units, determining the correct timing for initiating battle, and exploiting the strengths of your forces while minimizing losses.\", refusal=None, role='assistant', audio=None, function_call=None, tool_calls=None))]"
      ]
     },
     "execution_count": 32,
     "metadata": {},
     "output_type": "execute_result"
    }
   ],
   "source": [
    "answer.choices"
   ]
  },
  {
   "cell_type": "code",
   "execution_count": 29,
   "metadata": {},
   "outputs": [
    {
     "data": {
      "text/plain": [
       "\"Battle in Almoravid game is a major aspect that involves engaging with an enemy through direct confrontation. Here's a breakdown of the rules governing battles:\\n\\n### 1. **Initiating Battle**\\n- A battle occurs when an active Lord (the player’s representative on the game board) marches into an enemy's linked territory or adjacent stronghold while performing an *Approach*.\\n  \\n### 2. **Arraying Forces**\\n- Before a battle begins, players must *Array* their Lords. This means placing their units (Foot or Horse) in a specified formation on the battle mat. Arraying includes determining which units will fight and in what order they will be engaged.\\n\\n### 3. **Rolling for Combat**\\n- Combat is resolved using a dice roll for each participating unit during the battle:\\n  - **Attack Rolls:** The attacker rolls dice, aiming to exceed a target number based on the enemy's unit defenses.\\n  - **Defense Rolls:** The defender also rolls to protect their units from harm.\\n\\n### 4. **Types of Units**\\n- Different units have various combat capabilities and functions:\\n  - **Foot Units:** Generally utilized for ground engagements.\\n  - **Horse Units:** Often have advantages in mobility and can sometimes participate in flanking.\\n  - **Missile Units:** These units can engage the enemy from distance but have specific capabilities and limitations.\\n\\n### 5. **Combat Resolution**\\n- After rolling, outcomes are resolved based on the results:\\n  - Successful attacks can deal damage or destroy enemy units.\\n  - Units may also have armor, which provides a chance to evade damage by rolling.\\n\\n### 6. **Casualties**\\n- After each round of combat, casualties are determined. A player must remove a number of units based on the total damage done and any effects of the units involved.\\n  \\n### 7. **Victory and Retreat**\\n- A battle concludes when either player decides to withdraw or one side has sustained significant losses leading to the breakdown of morale.\\n- **Concede the Field:** A player may choose to end the battle voluntarily by conceding.\\n\\n### 8. **Aftermath of Battle**\\n- After one side either wins or retreats, the winner can take control of the territory.\\n- The losing side may suffer from reduced resources, loss of loyalty, or other penalties.\\n\\n### 9. **Special Considerations**\\n- Certain card effects or capabilities may modify the normal rules of combat.\\n- Units may also have special attributes, giving them advantages or disadvantages during battle.\\n\\nUnderstanding these rules is crucial to mastering combat in Almoravid, as battles can significantly influence the outcome of your campaign. Strategies will often revolve around selecting the right units, determining the correct timing for initiating battle, and exploiting the strengths of your forces while minimizing losses.\""
      ]
     },
     "execution_count": 29,
     "metadata": {},
     "output_type": "execute_result"
    }
   ],
   "source": [
    "answer.choices[0].message.content"
   ]
  },
  {
   "cell_type": "code",
   "execution_count": null,
   "metadata": {},
   "outputs": [],
   "source": [
    "answer =  openaiclient.chat.completions.create(\n",
    "        model = model,\n",
    "        messages= [\n",
    "            {\"role\": \"system\", \"content\": \"You are an expert player of Levy & Campaign games, particularly Almoravid. You are helpful and always willing to explain the rules and strategies of the game\" },\n",
    "            {\"role\": \"system\", \"content\": \n",
    "                \"\"\"\n",
    "NOTE: Battles last at least one Round.\\n• This Round, \\nthe Enemy gains a Pursuit advantage against the\\nConceding side’s Hits (see below).\\n• \\n Place the Pursuit marker between the \\nsides, pointing from Pursuing to Con-\\nceding side.\\nREPOSITION: Then, in each Round after the first, both sides \\nreposition Lords as follows (in this order).\\n• Rout. Remove \\nRouted Lords from the Battle Array. They no\\nlonger occupy any Array position nor participate further in the\\nBattle until Ending the Battle (4.4.3).\\n• Advance. \\nSlide any Unrouted Lords in Reserve into any empty\\nFront positions (one each).\\n• Center.\\n If a Front center position remains empty, first the At-\\ntacker then the Defender must select and slide one of that side’s \\nLords from either left or right front to fill its empty Front-cen-\\nter position.\\nSTRIKE: The Forces of Lords in Front Strike the Forces of the \\nLord directly opposite them or—if Flanking—those of the closest \\nFront Enemy Lord. \\n• Flanking. Whenever a Lord at Front has no Enemy Lord\\ndirectly opposite, he Strikes the closest Front Enemy Lord; \\ncenter may choose left or right. Total all Hits from Flank-\\ning Lords plus the directly opposed Lord, then round up. A \\nFlanking Lord may absorb Hits from a Flanked Lord, at the \\nowner’\\ns option. \\n• Initiative.  Strike step by step in the order shown below; each\\nletter designates \\na separate step. Within each step, Striking\\nLords choose the order of Strike, Lord by Lord (or Lord with\\nFlanking Lord[s]). Then any Flanking Lords choose wheth-\\ner to absorb Strikes before opposed Lords. Resolve all Hits,\\nProtection rolls, and Rout before Striking in the next step, not\\nsimultaneously. EXAMPLE: Attackers take Hits from Defend-\\ning Missiles before Attacking Missiles Strike.\\n1. Missile steps\\na. Defending Missiles\\nb. Attacking Missiles \\n2. Melee steps\\na. Defending Horse\\nb. Attacking Horse \\nc. Defending Foot\\nd. Attacking Foot \\n•\\n \\uf075 Javelins: A Lord with Javelins may use them in\\nany one Round of that side’s choice only, an-\\nnouncing so at the moment of use and flipping the\\nJavelins marker on his mat to the red “X”.\\nA portion of the Forces table on the foldout play aid.\\nTOTAL HITS: Each unit causes ½, 1, or 2 Hits, depending on \\nForces and Strike type—see the Forces table. Total all Hits for \\nthat step, including Flanking plus directly opposing Lords, round-\\ning up. If separate Capabilities give a unit “Missiles x½” and \\n“Missiles x1”, it has Missiles x1; if “Missiles x1” and target Ar-\\nmor -1, it has both. NOTE: You do not roll to generate Hits – they \\ngenerate automatically based on the Forces Striking.\\n• Mixed Missiles: \\nWhen Crossbows combine with other Mis-\\nsiles, round Hits in favor of Crossbows. EXAMPLE: Three \\nCrossbow Men-at-Arms and three Militia Bowmen would yield \\na total of three Hits, of which two would count as Crossbows.\\n• \\n Pursuit. The Conceding side halves its \\ntotal Hits against the Pursuing side. \\nRound all fractions up by step.\\n© 2021 GMT Games, LLC\\nAlmoravid\\n19\\nAPPLY HITS TO LORDS: Hits apply to the Forces of the op-\\nposed, Flanked, or Flanking Enemy Lord. A Player with a Flank-\\ning Lord selects either the Flanking or directly opposed Lord to \\ntake Hits. Whenever a Lord Routs to create a new Flanking situa-\\ntion, apply remaining Hits accordingly. \\nPROTECTION: Strongholds, Siegeworks, cards, and most \\nForces types give saving rolls that can nullify Hits—Walls, Ar-\\nmor, Evade, and Unarmored Protection. Crossbows and cards can \\nalter the rolls needed. See the Forces and Strongholds tables.\\nROLL WALLS: If this is a Storm or Sally (4.5.2-.3), a Lord ben-\\nefiting from Walls or Siegeworks first rolls dice equal to the total \\nnumber of Hits just received in that step before assigning Hits to \\nunits. Each roll within the Walls range specified (often, 1-4; 1-3 \\nwith Siege Towers) or less than or equal to the total Siege mark-\\ners there cancels one Hit.'} vector=None shard_key=None order_value=None\n",
    "score: 0.49804240606087363 *****TXT****** NOTE: Battles last at least one Round.\n",
    "• This Round, \n",
    "the Enemy gains a Pursuit advantage against the\n",
    "Conceding side’s Hits (see below).\n",
    "• \n",
    " Place the Pursuit marker between the \n",
    "sides, pointing from Pursuing to Con-\n",
    "ceding side.\n",
    "REPOSITION: Then, in each Round after the first, both sides \n",
    "reposition Lords as follows (in this order).\n",
    "• Rout. Remove \n",
    "Routed Lords from the Battle Array. They no\n",
    "longer occupy any Array position nor participate further in the\n",
    "Battle until Ending the Battle (4.4.3).\n",
    "• Advance. \n",
    "Slide any Unrouted Lords in Reserve into any empty\n",
    "Front positions (one each).\n",
    "• Center.\n",
    " If a Front center position remains empty, first the At-\n",
    "tacker then the Defender must select and slide one of that side’s \n",
    "Lords from either left or right front to fill its empty Front-cen-\n",
    "ter position.\n",
    "STRIKE: The Forces of Lords in Front Strike the Forces of the \n",
    "Lord directly opposite them or—if Flanking—those of the closest \n",
    "Front Enemy Lord. \n",
    "• Flanking. Whenever a Lord at Front has no Enemy Lord\n",
    "directly opposite, he Strikes the closest Front Enemy Lord; \n",
    "center may choose left or right. Total all Hits from Flank-\n",
    "ing Lords plus the directly opposed Lord, then round up. A \n",
    "Flanking Lord may absorb Hits from a Flanked Lord, at the \n",
    "owner’\n",
    "s option. \n",
    "• Initiative.  Strike step by step in the order shown below; each\n",
    "letter designates \n",
    "a separate step. Within each step, Striking\n",
    "Lords choose the order of Strike, Lord by Lord (or Lord with\n",
    "Flanking Lord[s]). Then any Flanking Lords choose wheth-\n",
    "er to absorb Strikes before opposed Lords. Resolve all Hits,\n",
    "Protection rolls, and Rout before Striking in the next step, not\n",
    "simultaneously. EXAMPLE: Attackers take Hits from Defend-\n",
    "ing Missiles before Attacking Missiles Strike.\n",
    "1. Missile steps\n",
    "a. Defending Missiles\n",
    "b. Attacking Missiles \n",
    "2. Melee steps\n",
    "a. Defending Horse\n",
    "b. Attacking Horse \n",
    "c. Defending Foot\n",
    "d. Attacking Foot \n",
    "•\n",
    "  Javelins: A Lord with Javelins may use them in\n",
    "any one Round of that side’s choice only, an-\n",
    "nouncing so at the moment of use and flipping the\n",
    "Javelins marker on his mat to the red “X”.\n",
    "A portion of the Forces table on the foldout play aid.\n",
    "TOTAL HITS: Each unit causes ½, 1, or 2 Hits, depending on \n",
    "Forces and Strike type—see the Forces table. Total all Hits for \n",
    "that step, including Flanking plus directly opposing Lords, round-\n",
    "ing up. If separate Capabilities give a unit “Missiles x½” and \n",
    "“Missiles x1”, it has Missiles x1; if “Missiles x1” and target Ar-\n",
    "mor -1, it has both. NOTE: You do not roll to generate Hits – they \n",
    "generate automatically based on the Forces Striking.\n",
    "• Mixed Missiles: \n",
    "When Crossbows combine with other Mis-\n",
    "siles, round Hits in favor of Crossbows. EXAMPLE: Three \n",
    "Crossbow Men-at-Arms and three Militia Bowmen would yield \n",
    "a total of three Hits, of which two would count as Crossbows.\n",
    "• \n",
    " Pursuit. The Conceding side halves its \n",
    "total Hits against the Pursuing side. \n",
    "Round all fractions up by step.\n",
    "© 2021 GMT Games, LLC\n",
    "Almoravid\n",
    "19\n",
    "APPLY HITS TO LORDS: Hits apply to the Forces of the op-\n",
    "posed, Flanked, or Flanking Enemy Lord. A Player with a Flank-\n",
    "ing Lord selects either the Flanking or directly opposed Lord to \n",
    "take Hits. Whenever a Lord Routs to create a new Flanking situa-\n",
    "tion, apply remaining Hits accordingly. \n",
    "PROTECTION: Strongholds, Siegeworks, cards, and most \n",
    "Forces types give saving rolls that can nullify Hits—Walls, Ar-\n",
    "mor, Evade, and Unarmored Protection. Crossbows and cards can \n",
    "alter the rolls needed. See the Forces and Strongholds tables.\n",
    "ROLL WALLS: If this is a Storm or Sally (4.5.2-.3), a Lord ben-\n",
    "efiting from Walls or Siegeworks first rolls dice equal to the total \n",
    "number of Hits just received in that step before assigning Hits to \n",
    "units. Each roll within the Walls range specified (often, 1-4; 1-3 \n",
    "with Siege Towers) or less than or equal to the total Siege mark-\n",
    "ers there cancels one Hit.\n",
    "                \"\"\" },            \n",
    "            {\"role\": \"user\", \"content\": \"Please explain to me rules of Battle in Almoravid\"}\n",
    "        ]\n",
    "    )"
   ]
  },
  {
   "cell_type": "code",
   "execution_count": 23,
   "metadata": {},
   "outputs": [
    {
     "name": "stdout",
     "output_type": "stream",
     "text": [
      "Certainly! The battle mechanics in Almoravid can be intricate, but I’ll break them down into key steps and principles for clarity.\n",
      "\n",
      "### Overview of Battle\n",
      "\n",
      "1. **Initiation**: Battles consist of rounds where players take turns striking at each other using their Lords (units). Each battle lasts at least one round.\n",
      "\n",
      "2. **Pursuit Advantage**: If one side concedes, the enemy gains a \"Pursuit\" advantage, which affects the Hits applied to the conceding side.\n",
      "\n",
      "### Key Steps in Battle\n",
      "\n",
      "1. **Repositioning Lords**: At the beginning of each round after the first, both sides will reposition their Lords. The steps are:\n",
      "   - **Rout**: Remove any Routed Lords from the battle array; these units cannot participate further until the end of the battle.\n",
      "   - **Advance**: Move any Unrouted Lords from Reserve into empty front positions (one Lord per position).\n",
      "   - **Center**: If there is still an empty center position in the front row, each side must slide one Lord from either side to occupy it.\n",
      "\n",
      "2. **Strike Phase**: This is where the actual combat occurs, and it involves several steps:\n",
      "   - **Missile Steps**:\n",
      "     - a. **Defending Missiles** strike first (the defending side).\n",
      "     - b. **Attacking Missiles** follow (the attacking side).\n",
      "   - **Melee Steps**:\n",
      "     - a. **Defending Horse** strike.\n",
      "     - b. **Attacking Horse** strike.\n",
      "     - c. **Defending Foot** strike.\n",
      "     - d. **Attacking Foot** strike.\n",
      "\n",
      "3. **Flanking**: If a Lord at the front doesn't have an enemy directly opposite, they can flank the closest enemy Lord instead. Flanking can provide strategic advantages, and players must decide which Lords absorb Hits during this phase.\n",
      "\n",
      "4. **Total Hits Calculation**: \n",
      "   - Each type of unit can cause varying amounts of Hits (½, 1, or 2), and the results are summed for each step. If units have competing capabilities (like “Missiles x½” and “Missiles x1”), the stronger one prevails.\n",
      "   - Mixed missile units (e.g., Crossbows and other missile types) will have Hits calculated in favor of Crossbows.\n",
      "\n",
      "5. **Applying Hits**: Hits are allocated based on the opposing units struck. Players must consider the Flanking rule, which allows players with Flanking Lords to choose which of their opponent’s Lords will receive Hits.\n",
      "\n",
      "### Protection and Damage Mitigation\n",
      "\n",
      "1. **Protection Mechanics**: \n",
      "   - Various mechanics exist (like Strongholds, Armor, etc.) that provide saving rolls to nullify Hits. Players utilize these to mitigate damage when their units are hit.\n",
      "   \n",
      "2. **Rolling Walls**: If a battle occurs during a Storm or Sally, Lords benefiting from Walls or Siegeworks will roll dice equal to the Hits they received before allocating damage.\n",
      "\n",
      "### Conclusion\n",
      "The strategic depth of Almoravid's battle system comes from positioning, timing of attacks, and understanding the interplay between various unit types and their abilities. Mastering these rules allows players to effectively navigate battles and exploit their opponents' weaknesses. \n",
      "\n",
      "If you have any specific questions or need clarification on any aspect of the battle rules, feel free to ask!\n"
     ]
    }
   ],
   "source": [
    "for c in answer.choices:\n",
    "    print(c.message.content)"
   ]
  },
  {
   "cell_type": "code",
   "execution_count": 1,
   "metadata": {},
   "outputs": [
    {
     "name": "stdout",
     "output_type": "stream",
     "text": [
      "Note: you may need to restart the kernel to use updated packages.\n"
     ]
    },
    {
     "name": "stderr",
     "output_type": "stream",
     "text": [
      "\n",
      "[notice] A new release of pip is available: 24.0 -> 24.3.1\n",
      "[notice] To update, run: python.exe -m pip install --upgrade pip\n"
     ]
    }
   ],
   "source": [
    "%pip install -qU rouge-score"
   ]
  },
  {
   "cell_type": "code",
   "execution_count": null,
   "metadata": {},
   "outputs": [],
   "source": [
    "# https://thepythoncode.com/article/calculate-rouge-score-in-python\n",
    "from rouge_score import rouge_scorer\n",
    "import numpy as np\n",
    "\n",
    "test_questions_and_answers = [\n",
    "    (\"What is the full name of the game?\", \"Almoravid: Reconquista and Riposte in Spain, 1085-1086\"),\n",
    "    (\"When does the game take place?\", \"The game takes place during mediaval reconquista in Iberian peninsula, specifically in the years 1085-1086\"),\n",
    "    (\"What do the opponents represent?\", \"The opponents represent the muslim Taifas (green color) and the Christian forces (yellow) led by Alphonso VI of Leon and Castile\")\n",
    "]\n",
    "\n",
    "llm_answers = [\t\n",
    "    \"The game is called Almoravid\",\n",
    "    \"The game represents the mediaval period\",\n",
    "    \"The opponents are yellow and green\"\n",
    "]\n",
    "\n",
    "scorer = rouge_scorer.RougeScorer(['rouge1', 'rouge2', 'rougeL'], use_stemmer=True)\n",
    "\n",
    "rouge1_scores, rouge2_scores, rougeL_scores = [], [], []\n",
    "\n",
    "\n",
    "\n",
    "for ref, gen in zip(test_questions_and_answers, llm_answers) :\n",
    "    scores = scorer.score(ref[1], gen)\n",
    "    print(scores)\n",
    "    rouge1_scores.append(scores['rouge1'].fmeasure)\n",
    "    rouge2_scores.append(scores['rouge2'].fmeasure)\n",
    "    rougeL_scores.append(scores['rougeL'].fmeasure)\n"
   ]
  },
  {
   "cell_type": "code",
   "execution_count": 23,
   "metadata": {},
   "outputs": [
    {
     "name": "stdout",
     "output_type": "stream",
     "text": [
      "What is the full name of the game?\n",
      "Almoravid: Reconquista and Riposte in Spain, 1085-1086\n",
      "When does the game take place?\n",
      "The game takes place during mediaval reconquista in Iberian peninsula, specifically in the years 1085-1086\n",
      "What do the opponents represent?\n",
      "The opponents represent the muslim Taifas (green color) and the Christian forces (yellow) led by Alphonso VI of Leon and Castile\n"
     ]
    }
   ],
   "source": [
    "for q,a in test_questions_and_answers:\n",
    "    print(q)\n",
    "    print(a)"
   ]
  },
  {
   "cell_type": "code",
   "execution_count": null,
   "metadata": {},
   "outputs": [],
   "source": [
    "for index, ref in enumerate(test_questions_and_answers):\n",
    "    print(\"Reference:\", ref)\n",
    "    print(\"Generated:\", llm_answers[index])\n",
    "    print(\"Rouge1:\", rouge1_scores[index])\n",
    "    print(\"Rouge2:\", rouge2_scores[index])\n",
    "    print(\"RougeL:\", rougeL_scores[index])"
   ]
  },
  {
   "cell_type": "code",
   "execution_count": 21,
   "metadata": {},
   "outputs": [
    {
     "name": "stdout",
     "output_type": "stream",
     "text": [
      "Average ROUGE-1 F1 Score: 0.2960\n",
      "Average ROUGE-2 F1 Score: 0.0600\n",
      "Average ROUGE-L F1 Score: 0.2410\n"
     ]
    }
   ],
   "source": [
    "# Aggregate ROUGE scores\n",
    "avg_rouge1 = np.mean(rouge1_scores)\n",
    "avg_rouge2 = np.mean(rouge2_scores)\n",
    "avg_rougeL = np.mean(rougeL_scores)\n",
    "\n",
    "# Print the results\n",
    "print(f\"Average ROUGE-1 F1 Score: {avg_rouge1:.4f}\")\n",
    "print(f\"Average ROUGE-2 F1 Score: {avg_rouge2:.4f}\")\n",
    "print(f\"Average ROUGE-L F1 Score: {avg_rougeL:.4f}\")"
   ]
  }
 ],
 "metadata": {
  "kernelspec": {
   "display_name": "venv",
   "language": "python",
   "name": "python3"
  },
  "language_info": {
   "codemirror_mode": {
    "name": "ipython",
    "version": 3
   },
   "file_extension": ".py",
   "mimetype": "text/x-python",
   "name": "python",
   "nbconvert_exporter": "python",
   "pygments_lexer": "ipython3",
   "version": "3.11.8"
  }
 },
 "nbformat": 4,
 "nbformat_minor": 2
}

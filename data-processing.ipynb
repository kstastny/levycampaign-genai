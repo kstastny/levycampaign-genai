{
 "cells": [
  {
   "cell_type": "code",
   "execution_count": 3,
   "metadata": {},
   "outputs": [],
   "source": [
    "!python -m venv venv"
   ]
  },
  {
   "cell_type": "code",
   "execution_count": null,
   "metadata": {},
   "outputs": [],
   "source": [
    "!venv/Scripts/activate"
   ]
  },
  {
   "cell_type": "code",
   "execution_count": null,
   "metadata": {},
   "outputs": [],
   "source": [
    "%pip install llama-index-embeddings-openai\n",
    "%pip install llama-index-readers-file\n",
    "%pip install python-dotenv"
   ]
  },
  {
   "cell_type": "code",
   "execution_count": null,
   "metadata": {},
   "outputs": [],
   "source": [
    "%pip install -U qdrant_client\n",
    "%pip install -U sentence-transformers"
   ]
  },
  {
   "cell_type": "code",
   "execution_count": 4,
   "metadata": {},
   "outputs": [],
   "source": [
    "from llama_index.core import SimpleDirectoryReader\n",
    "\n",
    "# load documents\n",
    "documents = SimpleDirectoryReader(input_files=[\"data/Almoravid+Rules+of+Play+-+LIVING+RULES+(1).pdf\"]).load_data()"
   ]
  },
  {
   "cell_type": "code",
   "execution_count": null,
   "metadata": {},
   "outputs": [],
   "source": [
    "#documents[0].text\n",
    "for d in documents :\n",
    "    print(d.text)\n",
    "\n",
    "text = \"\\n\".join([doc.text for doc in documents])\n",
    "#TODO clear text"
   ]
  },
  {
   "cell_type": "code",
   "execution_count": null,
   "metadata": {},
   "outputs": [
    {
     "data": {
      "text/plain": [
       "'abcd-fake'"
      ]
     },
     "execution_count": 17,
     "metadata": {},
     "output_type": "execute_result"
    }
   ],
   "source": [
    "from dotenv import load_dotenv\n",
    "import os\n",
    "\n",
    "# Load environment variables from .env file\n",
    "load_dotenv()\n",
    "\n",
    "openai_key = os.getenv(\"OPENAI_API_KEY\")"
   ]
  },
  {
   "cell_type": "code",
   "execution_count": 23,
   "metadata": {},
   "outputs": [
    {
     "name": "stdout",
     "output_type": "stream",
     "text": [
      "123521\n"
     ]
    }
   ],
   "source": [
    "print(len(text))"
   ]
  },
  {
   "cell_type": "code",
   "execution_count": 27,
   "metadata": {},
   "outputs": [
    {
     "name": "stdout",
     "output_type": "stream",
     "text": [
      "43\n"
     ]
    }
   ],
   "source": [
    "from llama_index.core.node_parser import SentenceSplitter\n",
    "\n",
    "# Initialize the SentenceSplitter\n",
    "splitter = SentenceSplitter()\n",
    "\n",
    "# Split the text into sentences\n",
    "sentences = splitter.split_text(text)\n",
    "\n",
    "print(len(sentences))\n",
    "\n",
    "\n",
    "# Print the sentences\n",
    "# for sentence in sentences:\n",
    "#     print(sentence)"
   ]
  },
  {
   "cell_type": "code",
   "execution_count": 30,
   "metadata": {},
   "outputs": [],
   "source": [
    "#sentence transformers chunkings\n",
    "from sentence_transformers import SentenceTransformer\n",
    "\n",
    "#model = SentenceTransformer('sentence-transformers/sentence-t5-large')\n",
    "model = SentenceTransformer('paraphrase-MiniLM-L6-v2')\n",
    "\n",
    "#TODO try different models https://www.sbert.net/docs/sentence_transformer/pretrained_models.html\n",
    "\n",
    "vectors = [model.encode(sentence) for sentence in sentences]"
   ]
  },
  {
   "cell_type": "code",
   "execution_count": 31,
   "metadata": {},
   "outputs": [
    {
     "data": {
      "text/plain": [
       "43"
      ]
     },
     "execution_count": 31,
     "metadata": {},
     "output_type": "execute_result"
    }
   ],
   "source": [
    "len(vectors)"
   ]
  },
  {
   "cell_type": "code",
   "execution_count": null,
   "metadata": {},
   "outputs": [],
   "source": [
    "#TODO rest of semantic chunking https://docs.llamaindex.ai/en/stable/examples/node_parsers/semantic_chunking/"
   ]
  },
  {
   "cell_type": "code",
   "execution_count": 34,
   "metadata": {},
   "outputs": [],
   "source": [
    "#Qdrant\n",
    "from qdrant_client import models, QdrantClient\n",
    "qdrant = QdrantClient(path=\"./qdrant_data\")"
   ]
  },
  {
   "cell_type": "code",
   "execution_count": 33,
   "metadata": {},
   "outputs": [
    {
     "data": {
      "text/plain": [
       "384"
      ]
     },
     "execution_count": 33,
     "metadata": {},
     "output_type": "execute_result"
    }
   ],
   "source": [
    "len(vectors[0])"
   ]
  },
  {
   "cell_type": "code",
   "execution_count": null,
   "metadata": {},
   "outputs": [
    {
     "name": "stderr",
     "output_type": "stream",
     "text": [
      "C:\\Users\\kasta\\AppData\\Local\\Temp\\ipykernel_23632\\1308980876.py:1: DeprecationWarning: `recreate_collection` method is deprecated and will be removed in the future. Use `collection_exists` to check collection existence and `create_collection` instead.\n",
      "  qdrant.recreate_collection(\n"
     ]
    },
    {
     "data": {
      "text/plain": [
       "True"
      ]
     },
     "execution_count": 35,
     "metadata": {},
     "output_type": "execute_result"
    }
   ],
   "source": [
    "#TODO get rid of deprecation warning\n",
    "qdrant.recreate_collection(\n",
    "    #TODO different names for different embeddings\n",
    "    collection_name=\"demo_cosine\",\n",
    "    vectors_config=models.VectorParams(\n",
    "        size=384, # Vector size is defined by used model\n",
    "        distance=models.Distance.COSINE,\n",
    "    ),\n",
    ")"
   ]
  },
  {
   "cell_type": "code",
   "execution_count": null,
   "metadata": {},
   "outputs": [],
   "source": [
    "[x for x in enumerate(sentences)]"
   ]
  },
  {
   "cell_type": "code",
   "execution_count": null,
   "metadata": {},
   "outputs": [],
   "source": [
    "vectors[0]"
   ]
  },
  {
   "cell_type": "code",
   "execution_count": 43,
   "metadata": {},
   "outputs": [
    {
     "data": {
      "text/plain": [
       "UpdateResult(operation_id=0, status=<UpdateStatus.COMPLETED: 'completed'>)"
      ]
     },
     "execution_count": 43,
     "metadata": {},
     "output_type": "execute_result"
    }
   ],
   "source": [
    "qdrant.upsert(\n",
    "    collection_name=\"demo_cosine\",\n",
    "    points=[\n",
    "        models.PointStruct(\n",
    "            id=idx, \n",
    "            vector=vectors[idx].tolist(),\n",
    "            # place where dict with the vector source to be added or id/reference for the source\n",
    "            payload={\"source\": doc},\n",
    "        )\n",
    "        for idx, doc in enumerate(sentences)\n",
    "    ],\n",
    ")"
   ]
  },
  {
   "cell_type": "code",
   "execution_count": 45,
   "metadata": {},
   "outputs": [],
   "source": [
    "searchedText = \"\"\"Battle\n",
    "\"\"\""
   ]
  },
  {
   "cell_type": "code",
   "execution_count": 50,
   "metadata": {},
   "outputs": [
    {
     "name": "stdout",
     "output_type": "stream",
     "text": [
      "id=25 version=0 score=0.6054466467295004 payload={'source': 'NOTE: Battles last at least one Round.\\n• This Round, \\nthe Enemy gains a Pursuit advantage against the\\nConceding side’s Hits (see below).\\n• \\n Place the Pursuit marker between the \\nsides, pointing from Pursuing to Con-\\nceding side.\\nREPOSITION: Then, in each Round after the first, both sides \\nreposition Lords as follows (in this order).\\n• Rout. Remove \\nRouted Lords from the Battle Array. They no\\nlonger occupy any Array position nor participate further in the\\nBattle until Ending the Battle (4.4.3).\\n• Advance. \\nSlide any Unrouted Lords in Reserve into any empty\\nFront positions (one each).\\n• Center.\\n If a Front center position remains empty, first the At-\\ntacker then the Defender must select and slide one of that side’s \\nLords from either left or right front to fill its empty Front-cen-\\nter position.\\nSTRIKE: The Forces of Lords in Front Strike the Forces of the \\nLord directly opposite them or—if Flanking—those of the closest \\nFront Enemy Lord. \\n• Flanking. Whenever a Lord at Front has no Enemy Lord\\ndirectly opposite, he Strikes the closest Front Enemy Lord; \\ncenter may choose left or right. Total all Hits from Flank-\\ning Lords plus the directly opposed Lord, then round up. A \\nFlanking Lord may absorb Hits from a Flanked Lord, at the \\nowner’\\ns option. \\n• Initiative.  Strike step by step in the order shown below; each\\nletter designates \\na separate step. Within each step, Striking\\nLords choose the order of Strike, Lord by Lord (or Lord with\\nFlanking Lord[s]). Then any Flanking Lords choose wheth-\\ner to absorb Strikes before opposed Lords. Resolve all Hits,\\nProtection rolls, and Rout before Striking in the next step, not\\nsimultaneously. EXAMPLE: Attackers take Hits from Defend-\\ning Missiles before Attacking Missiles Strike.\\n1. Missile steps\\na. Defending Missiles\\nb. Attacking Missiles \\n2. Melee steps\\na. Defending Horse\\nb. Attacking Horse \\nc. Defending Foot\\nd. Attacking Foot \\n•\\n \\uf075 Javelins: A Lord with Javelins may use them in\\nany one Round of that side’s choice only, an-\\nnouncing so at the moment of use and flipping the\\nJavelins marker on his mat to the red “X”.\\nA portion of the Forces table on the foldout play aid.\\nTOTAL HITS: Each unit causes ½, 1, or 2 Hits, depending on \\nForces and Strike type—see the Forces table. Total all Hits for \\nthat step, including Flanking plus directly opposing Lords, round-\\ning up. If separate Capabilities give a unit “Missiles x½” and \\n“Missiles x1”, it has Missiles x1; if “Missiles x1” and target Ar-\\nmor -1, it has both. NOTE: You do not roll to generate Hits – they \\ngenerate automatically based on the Forces Striking.\\n• Mixed Missiles: \\nWhen Crossbows combine with other Mis-\\nsiles, round Hits in favor of Crossbows. EXAMPLE: Three \\nCrossbow Men-at-Arms and three Militia Bowmen would yield \\na total of three Hits, of which two would count as Crossbows.\\n• \\n Pursuit. The Conceding side halves its \\ntotal Hits against the Pursuing side. \\nRound all fractions up by step.\\n© 2021 GMT Games, LLC\\nAlmoravid\\n19\\nAPPLY HITS TO LORDS: Hits apply to the Forces of the op-\\nposed, Flanked, or Flanking Enemy Lord. A Player with a Flank-\\ning Lord selects either the Flanking or directly opposed Lord to \\ntake Hits. Whenever a Lord Routs to create a new Flanking situa-\\ntion, apply remaining Hits accordingly. \\nPROTECTION: Strongholds, Siegeworks, cards, and most \\nForces types give saving rolls that can nullify Hits—Walls, Ar-\\nmor, Evade, and Unarmored Protection. Crossbows and cards can \\nalter the rolls needed. See the Forces and Strongholds tables.\\nROLL WALLS: If this is a Storm or Sally (4.5.2-.3), a Lord ben-\\nefiting from Walls or Siegeworks first rolls dice equal to the total \\nnumber of Hits just received in that step before assigning Hits to \\nunits. Each roll within the Walls range specified (often, 1-4; 1-3 \\nwith Siege Towers) or less than or equal to the total Siege mark-\\ners there cancels one Hit.'} vector=None shard_key=None order_value=None\n",
      "score: 0.6054466467295004 *****TXT****** NOTE: Battles last at least one Round.\n",
      "• This Round, \n",
      "the Enemy gains a Pursuit \n",
      "id=24 version=0 score=0.5684451934943706 payload={'source': 'If they lose a Battle there, they Withdraw or Retreat normal-\\nly (4.3.4, 4.4.3). NOTE: Only a Marshal or Lieutenant can Sortie \\na group (4.3.1).\\n4.4 Battle\\nWhen a side Approaches any Unbesieged and Unbypassed Ene-\\nmy Lord (4.3.4) who does not Avoid Battle or Withdraw, a Bat-\\ntle ensues. All Lords in the Locale not inside a Stronghold \\n(4.3.5) must participate in the Battle. A Battle and Storm page \\nof the foldout summarizes these rules. NOTE: Storm of a \\nStronghold (4.5.2) follows similar but distinct rules from field \\nBattle.\\nMARKER: To remember where \\nLords are fighting, mark the Battle or \\nStorm Locale with the Battle/Storm \\nmarker.\\n4.4.1 Battle Array. Players Array their Lords involved—either \\ncylinders on the Battle mat or mats on the table, as players prefer. \\n• Attackers then Defenders position their Lords.\\n• A side may have a Lord each in up to three possible Front po-\\nsitions: left, center, and right. Other Lords start in Reserve.\\n• The Active Lord must start at Front center. The Attackers then\\nfill in Front left and/or right positions with one other Lord\\npresent each, if any, and put any remaining Lords in Reserve.\\n• The Defender must put one Lord directly opposite each Front\\nAttacking Lord, first in the center, then left and/or right, as\\nable.\\nPLAY NOTE: Players may use Lord cylinders on the Battle mat \\nor Array Lord mats, as preferred. \\nBattle mat.\\nLord mats in Array.\\nFRONT\\nCenter\\nMuslim Player\\nRESERVE\\nFRONT\\nCenter\\nChristian Player\\nRESERV E\\n© 2021 GMT Games, LLC\\nAlmoravid\\n18\\n\\uf075 JA VELINS: Put a Javelins marker on each Lord\\nwith African Horse, Jabalinas , or Harbah .\\nEVENTS: Attacking then Defending sides then may play appli-\\ncable Held Events (3.1.3) as desired.\\nPLAY NOTE: While Events may affect later Rounds, all must \\nbe played before Round 1. \\nRELIEF SALLY: When a side Approaches (4.3.4) a Locale \\nwhere it is also Besieged, any Besieged Lords may join any At-\\ntack for no added Command actions. Array Sallying Attackers as \\nabove but behind the Defenders; Array up to three Reserve De-\\nfenders as if Front Defenders, facing the Sallying Attackers. Sal-\\nlying Lords Attack Reserve Defenders or, if none, Front Defend-\\ners as if Flanking all of them equally closely (4.4.2). Siegeworks \\nbenefits apply to Strikes by Sallying Attackers only (4.5.3). If the \\nAttackers lose, Withdraw Sallying Lords back into the Stronghold \\nand reduce Siege markers there to one (4.5.3).\\n4.4.2 Rounds. Once Arrayed, a Battle continues Round after \\nRound, until a side Concedes or all its Lords Rout. A Round of \\nBattle will go through the steps below in this order: Concede?, \\nReposition, Strike. Within each Strike step, determine Hits, then \\nProtection, then Rout. See the Battle and Storm chart of the play \\naid. NOTE: Missiles and Event effects on Battle can vary by \\nRound.\\nCONCEDE THE FIELD? At the start of each Battle Round, the \\nAttacker then the Defender may declare that the Battle will end \\nafter this Round with that side as the loser but with diminished \\nlosses (4.4.3-.4). NOTE: Battles last at least one Round.\\n• This Round, \\nthe Enemy gains a Pursuit advantage against the\\nConceding side’s Hits (see below).\\n• \\n Place the Pursuit marker between the \\nsides, pointing from Pursuing to Con-\\nceding side.\\nREPOSITION: Then, in each Round after the first, both sides \\nreposition Lords as follows (in this order).\\n• Rout. Remove \\nRouted Lords from the Battle Array. They no\\nlonger occupy any Array position nor participate further in the\\nBattle until Ending the Battle (4.4.3).\\n• Advance. \\nSlide any Unrouted Lords in Reserve into any empty\\nFront positions (one each).\\n• Center.\\n If a Front center position remains empty, first the At-\\ntacker then the Defender must select and slide one of that side’s \\nLords from either left or right front to fill its empty Front-cen-\\nter position.'} vector=None shard_key=None order_value=None\n",
      "score: 0.5684451934943706 *****TXT****** If they lose a Battle there, they Withdraw or Retreat normal-\n",
      "ly (4.3.4, 4.4.3).\n",
      "id=29 version=0 score=0.5379309859750632 payload={'source': 'At the start of each Round after the first, the At-\\ntacker (only) may end the Storm then. The Attacker loses. Go to \\nEnding the Storm below.\\nREPOSITION: \\uf075 In each Storm Round after the first, Attacker \\nthen Defender may add one Lord from Reserve to the Front, up to \\nStronghold Capacity. If all Front Lords Routed, a Reserve Lord (if \\nany present) must move to Front. \\nSTRONGHOLD EFFECTS: \\n• The Besieged side \\nreceives the Garrison units shown for that\\ntype of Stronghold on the Strongholds table.\\n• The Besieged side \\nuses that Stronghold’s Walls as shown on\\nthe Strongholds table (4.4.2).\\n• The Besieging side \\nuses Siegeworks as its own Walls (see be-\\nlow).\\n• All Defending units Melee Strike before any \\nAttacking units\\ndo, unlike Battle in which Horse Melee precedes Foot (4.4.2,\\nsee the Battle and Storm chart).\\n• The Attacking side must absorb Hits with any \\nArmored units\\nbefore doing so with other units.\\n• \\uf075 Each Lord \\nof each side in Storm adds no more than six Hits\\nin Melee. (Missiles are unlimited.)\\n• \\uf075 Javelins and Slingers are x½ (not x1) in Storm.\\n© 2021 GMT Games, LLC\\nAlmoravid\\n21\\nA portion of the Strongholds table on the foldout.\\nGARRISON FORCES DURING STORM: \\n•\\n Garrison Men-at-Arms in addition \\nto Melee add Missile Hits \\nas Crossbowmen with –1 to Enemy Armor and selection of \\nenemy targets (4.4.2 PROTECTION, ASSIGN HITS); Militia \\ndo so as regular Bowmen.\\n•\\n Garrisons add their \\nStrikes to those of the Defending Lord \\n(rounding up), if any, but do not otherwise affect the Lord’s \\nStrikes. Garrisons are separate from any Defending Lord and \\nignore cards affecting that Lord individually. EXAMPLES: \\nA Besieged Christian Lord’ s units get crossbows only via a \\nBallesteros card; his Cantador would not affect Garrison \\nStrikes. \\n•\\n Garrisons \\nmust take all Hits suffered by the Defender until \\nthey are Routed, after which Defending Front Lords’ units ab-\\nsorb Hits. \\n•\\n Whenever \\nRouted and at the end of the Storm, return Garrison \\nunits to the pool. \\n•\\n The full complement \\nof Garrison units Defend in each Enemy \\nStorm action, regardless of what may have happened in previ-\\nous Storm actions.\\nSIEGEWORKS: The Besieging side places all Siege markers at \\nthe Locale in front of its Attacking Lord(s). Those Lords during \\nthe Storm have Walls with strength equal to the number of Siege \\nmarkers against both Missile and Melee Strikes. EXAMPLE: \\nLords Storming with three Siege markers would benefit from Walls \\n1-3.\\nENDING THE STORM: A Storm ends once the number of \\nRounds completed equals the number of Siege markers there, or \\nearlier if a side loses because all its Forces there Rout or the At-\\ntacker Concedes.\\nUnless the Defenders all Routed, the Attackers lose. Losing At-\\ntackers neither Retreat nor give up Spoils. Presuming that Attack-\\ners survive, the Locale remains Besieged—return the Siege mark-\\ners to the map and go to Aftermath (4.4.5). \\n•\\n If the Defenders lose, the Stronghold is Sacked as below\\n. \\n•\\n Both sides’\\n Forces take Losses per Battle (4.4.4), except that \\nRouted Defending units always roll against Protection and \\nRouted Attacking units that fail to roll a “1” are removed. \\n• Mark all Lords there as Moved/Fought, even Lords who re-\\nmained in Reserve. NOTE: Lords at a Storm Locale may not \\nsimply sit it out. Used or not, they showed up for action. \\nSACK: When Besieged Defenders lose a Storm:\\n•\\n Permanently \\nremove all losing Lords (per 3.3.1) and award \\nSpoils from them (all their Assets, 4.4.3). \\n•\\n The Besiegers Conquer the Stronghold as per SURRENDER \\n(4.5.1). \\n•\\n In \\naddition, award Spoils from the Stronghold. The Besieg-\\ners receive and distribute as desired among their Lords there \\n\\uf075 the number of Coin, Loot, and/or Provender shown on the \\nStrongholds table.'} vector=None shard_key=None order_value=None\n",
      "score: 0.5379309859750632 *****TXT****** At the start of each Round after the first, the At-\n",
      "tacker (only) may end the St\n"
     ]
    }
   ],
   "source": [
    "hits = qdrant.search(\n",
    "    collection_name=\"demo_cosine\",\n",
    "    query_vector=model.encode(searchedText).tolist(),\n",
    "    limit=3,\n",
    ")\n",
    "\n",
    "for hit in hits:\n",
    "    print(hit)\n",
    "    print(\"score:\", hit.score, \"*****TXT******\", hit.payload[\"source\"][:80])"
   ]
  }
 ],
 "metadata": {
  "kernelspec": {
   "display_name": "venv",
   "language": "python",
   "name": "python3"
  },
  "language_info": {
   "codemirror_mode": {
    "name": "ipython",
    "version": 3
   },
   "file_extension": ".py",
   "mimetype": "text/x-python",
   "name": "python",
   "nbconvert_exporter": "python",
   "pygments_lexer": "ipython3",
   "version": "3.11.8"
  }
 },
 "nbformat": 4,
 "nbformat_minor": 2
}
